{
 "cells": [
  {
   "cell_type": "markdown",
   "metadata": {
    "id": "snXbNS9mn10i"
   },
   "source": [
    "# Decision Tree Learning and Cross-validation\n",
    "\n",
    "\n",
    "\n",
    "\n",
    "## Scikit-learn\n",
    "\n",
    "Scikit-learn, is a powerful open-source machine learning library for Python. Take a look at the main modules in scikit-learn:\n",
    "https://scikit-learn.org/stable/index.html\n",
    "\n",
    "In this practical, we are going to use scikit-learn to build decision trees and use cross-validation to evaluate the models.\n",
    "\n",
    "The best source to study Scikit-learn is its documentation, where you can find tons of examples, and it's often useful to read the documentation for the key parameters and its usage for different classes and methods.\n"
   ]
  },
  {
   "cell_type": "markdown",
   "metadata": {
    "id": "LzcOKQeWrCjP"
   },
   "source": [
    "## Iris data\n",
    "We will start to play with the example on Scikit-learn: the famous Iris dataset.\n",
    "\n",
    "Note: if you don't have graphviz installed in your environment, you can comment out the part for *import of Source from graphviz*. And you can use the simple plottree function provided by scikit-learn to visualise the tree."
   ]
  },
  {
   "cell_type": "code",
   "execution_count": 3,
   "metadata": {
    "id": "lI6RRxiXn-np"
   },
   "outputs": [
    {
     "ename": "ModuleNotFoundError",
     "evalue": "No module named 'graphviz'",
     "output_type": "error",
     "traceback": [
      "\u001b[1;31m---------------------------------------------------------------------------\u001b[0m",
      "\u001b[1;31mModuleNotFoundError\u001b[0m                       Traceback (most recent call last)",
      "Cell \u001b[1;32mIn[3], line 5\u001b[0m\n\u001b[0;32m      3\u001b[0m \u001b[38;5;28;01mfrom\u001b[39;00m \u001b[38;5;21;01msklearn\u001b[39;00m\u001b[38;5;21;01m.\u001b[39;00m\u001b[38;5;21;01mdatasets\u001b[39;00m \u001b[38;5;28;01mimport\u001b[39;00m load_iris\n\u001b[0;32m      4\u001b[0m \u001b[38;5;28;01mfrom\u001b[39;00m \u001b[38;5;21;01mIPython\u001b[39;00m\u001b[38;5;21;01m.\u001b[39;00m\u001b[38;5;21;01mdisplay\u001b[39;00m \u001b[38;5;28;01mimport\u001b[39;00m SVG\n\u001b[1;32m----> 5\u001b[0m \u001b[38;5;28;01mfrom\u001b[39;00m \u001b[38;5;21;01mgraphviz\u001b[39;00m \u001b[38;5;28;01mimport\u001b[39;00m Source\n\u001b[0;32m      6\u001b[0m \u001b[38;5;28;01mfrom\u001b[39;00m \u001b[38;5;21;01mIPython\u001b[39;00m\u001b[38;5;21;01m.\u001b[39;00m\u001b[38;5;21;01mdisplay\u001b[39;00m \u001b[38;5;28;01mimport\u001b[39;00m display\n",
      "\u001b[1;31mModuleNotFoundError\u001b[0m: No module named 'graphviz'"
     ]
    }
   ],
   "source": [
    "from sklearn.tree import DecisionTreeClassifier, export_graphviz\n",
    "from sklearn import tree\n",
    "from sklearn.datasets import load_iris\n",
    "from IPython.display import SVG\n",
    "from graphviz import Source\n",
    "from IPython.display import display"
   ]
  },
  {
   "cell_type": "code",
   "execution_count": 4,
   "metadata": {
    "colab": {
     "base_uri": "https://localhost:8080/"
    },
    "id": "CM6s22f_oDTe",
    "outputId": "69d9520e-b2a5-42f3-d74b-562d9cda5a96"
   },
   "outputs": [
    {
     "name": "stdout",
     "output_type": "stream",
     "text": [
      ".. _iris_dataset:\n",
      "\n",
      "Iris plants dataset\n",
      "--------------------\n",
      "\n",
      "**Data Set Characteristics:**\n",
      "\n",
      "    :Number of Instances: 150 (50 in each of three classes)\n",
      "    :Number of Attributes: 4 numeric, predictive attributes and the class\n",
      "    :Attribute Information:\n",
      "        - sepal length in cm\n",
      "        - sepal width in cm\n",
      "        - petal length in cm\n",
      "        - petal width in cm\n",
      "        - class:\n",
      "                - Iris-Setosa\n",
      "                - Iris-Versicolour\n",
      "                - Iris-Virginica\n",
      "                \n",
      "    :Summary Statistics:\n",
      "\n",
      "    ============== ==== ==== ======= ===== ====================\n",
      "                    Min  Max   Mean    SD   Class Correlation\n",
      "    ============== ==== ==== ======= ===== ====================\n",
      "    sepal length:   4.3  7.9   5.84   0.83    0.7826\n",
      "    sepal width:    2.0  4.4   3.05   0.43   -0.4194\n",
      "    petal length:   1.0  6.9   3.76   1.76    0.9490  (high!)\n",
      "    petal width:    0.1  2.5   1.20   0.76    0.9565  (high!)\n",
      "    ============== ==== ==== ======= ===== ====================\n",
      "\n",
      "    :Missing Attribute Values: None\n",
      "    :Class Distribution: 33.3% for each of 3 classes.\n",
      "    :Creator: R.A. Fisher\n",
      "    :Donor: Michael Marshall (MARSHALL%PLU@io.arc.nasa.gov)\n",
      "    :Date: July, 1988\n",
      "\n",
      "The famous Iris database, first used by Sir R.A. Fisher. The dataset is taken\n",
      "from Fisher's paper. Note that it's the same as in R, but not as in the UCI\n",
      "Machine Learning Repository, which has two wrong data points.\n",
      "\n",
      "This is perhaps the best known database to be found in the\n",
      "pattern recognition literature.  Fisher's paper is a classic in the field and\n",
      "is referenced frequently to this day.  (See Duda & Hart, for example.)  The\n",
      "data set contains 3 classes of 50 instances each, where each class refers to a\n",
      "type of iris plant.  One class is linearly separable from the other 2; the\n",
      "latter are NOT linearly separable from each other.\n",
      "\n",
      ".. topic:: References\n",
      "\n",
      "   - Fisher, R.A. \"The use of multiple measurements in taxonomic problems\"\n",
      "     Annual Eugenics, 7, Part II, 179-188 (1936); also in \"Contributions to\n",
      "     Mathematical Statistics\" (John Wiley, NY, 1950).\n",
      "   - Duda, R.O., & Hart, P.E. (1973) Pattern Classification and Scene Analysis.\n",
      "     (Q327.D83) John Wiley & Sons.  ISBN 0-471-22361-1.  See page 218.\n",
      "   - Dasarathy, B.V. (1980) \"Nosing Around the Neighborhood: A New System\n",
      "     Structure and Classification Rule for Recognition in Partially Exposed\n",
      "     Environments\".  IEEE Transactions on Pattern Analysis and Machine\n",
      "     Intelligence, Vol. PAMI-2, No. 1, 67-71.\n",
      "   - Gates, G.W. (1972) \"The Reduced Nearest Neighbor Rule\".  IEEE Transactions\n",
      "     on Information Theory, May 1972, 431-433.\n",
      "   - See also: 1988 MLC Proceedings, 54-64.  Cheeseman et al\"s AUTOCLASS II\n",
      "     conceptual clustering system finds 3 classes in the data.\n",
      "   - Many, many more ...\n"
     ]
    }
   ],
   "source": [
    "# Load data\n",
    "iris = load_iris()\n",
    "# Here is the description of the dataset\n",
    "print(iris.DESCR)"
   ]
  },
  {
   "cell_type": "markdown",
   "metadata": {
    "id": "iXtTh31T1QLa"
   },
   "source": [
    "## Plot the decision surface of a decision tree\n",
    "\n",
    "Plot the decision surface of a decision tree trained on pairs of features of the iris dataset - example from Scikit-learn.\n",
    "\n",
    "See decision tree <tree> for more information on the estimator.\n",
    "\n",
    "Below for each pair of iris features, the decision tree learns decision boundaries made of combinations of simple thresholding rules inferred from the training samples.\n",
    "\n"
   ]
  },
  {
   "cell_type": "code",
   "execution_count": 5,
   "metadata": {
    "colab": {
     "base_uri": "https://localhost:8080/",
     "height": 507
    },
    "id": "T8fPFZTRwWdO",
    "outputId": "540db916-3b3f-435e-eb88-b3a7001c5ece"
   },
   "outputs": [
    {
     "name": "stdout",
     "output_type": "stream",
     "text": [
      "Automatically created module for IPython interactive environment\n"
     ]
    },
    {
     "name": "stderr",
     "output_type": "stream",
     "text": [
      "C:\\Users\\Tommy\\AppData\\Local\\Temp\\ipykernel_9192\\749894300.py:31: UserWarning: The figure layout has changed to tight\n",
      "  plt.tight_layout(h_pad=0.5, w_pad=0.5, pad=2.5)\n",
      "C:\\Users\\Tommy\\AppData\\Local\\Temp\\ipykernel_9192\\749894300.py:31: UserWarning: The figure layout has changed to tight\n",
      "  plt.tight_layout(h_pad=0.5, w_pad=0.5, pad=2.5)\n",
      "C:\\Users\\Tommy\\AppData\\Local\\Temp\\ipykernel_9192\\749894300.py:31: UserWarning: The figure layout has changed to tight\n",
      "  plt.tight_layout(h_pad=0.5, w_pad=0.5, pad=2.5)\n",
      "C:\\Users\\Tommy\\AppData\\Local\\Temp\\ipykernel_9192\\749894300.py:31: UserWarning: The figure layout has changed to tight\n",
      "  plt.tight_layout(h_pad=0.5, w_pad=0.5, pad=2.5)\n",
      "C:\\Users\\Tommy\\AppData\\Local\\Temp\\ipykernel_9192\\749894300.py:31: UserWarning: The figure layout has changed to tight\n",
      "  plt.tight_layout(h_pad=0.5, w_pad=0.5, pad=2.5)\n"
     ]
    },
    {
     "data": {
      "image/png": "[encoded data removed]",
      "text/plain": [
       "<Figure size 640x480 with 6 Axes>"
      ]
     },
     "metadata": {},
     "output_type": "display_data"
    },
    {
     "data": {
      "text/plain": [
       "<Figure size 640x480 with 0 Axes>"
      ]
     },
     "metadata": {},
     "output_type": "display_data"
    }
   ],
   "source": [
    "print(__doc__)\n",
    "\n",
    "import numpy as np\n",
    "import matplotlib.pyplot as plt\n",
    "\n",
    "from sklearn.datasets import load_iris\n",
    "from sklearn.tree import DecisionTreeClassifier, plot_tree\n",
    "\n",
    "# Parameters\n",
    "n_classes = 3\n",
    "plot_colors = \"ryb\"\n",
    "plot_step = 0.02\n",
    "\n",
    "\n",
    "for pairidx, pair in enumerate([[0, 1], [0, 2], [0, 3],\n",
    "                                [1, 2], [1, 3], [2, 3]]):\n",
    "    # We only take the two corresponding features\n",
    "    X = iris.data[:, pair]\n",
    "    y = iris.target\n",
    "\n",
    "    # Train\n",
    "    clf = DecisionTreeClassifier().fit(X, y)\n",
    "\n",
    "    # Plot the decision boundary\n",
    "    plt.subplot(2, 3, pairidx + 1)\n",
    "\n",
    "    x_min, x_max = X[:, 0].min() - 1, X[:, 0].max() + 1\n",
    "    y_min, y_max = X[:, 1].min() - 1, X[:, 1].max() + 1\n",
    "    xx, yy = np.meshgrid(np.arange(x_min, x_max, plot_step),\n",
    "                         np.arange(y_min, y_max, plot_step))\n",
    "    plt.tight_layout(h_pad=0.5, w_pad=0.5, pad=2.5)\n",
    "\n",
    "    Z = clf.predict(np.c_[xx.ravel(), yy.ravel()])\n",
    "    Z = Z.reshape(xx.shape)\n",
    "    cs = plt.contourf(xx, yy, Z, cmap=plt.cm.RdYlBu)\n",
    "\n",
    "    plt.xlabel(iris.feature_names[pair[0]])\n",
    "    plt.ylabel(iris.feature_names[pair[1]])\n",
    "\n",
    "    # Plot the training points\n",
    "    for i, color in zip(range(n_classes), plot_colors):\n",
    "        idx = np.where(y == i)\n",
    "        plt.scatter(X[idx, 0], X[idx, 1], c=color, label=iris.target_names[i],\n",
    "                    edgecolor='black', s=15)\n",
    "\n",
    "plt.suptitle(\"Decision surface of a decision tree using paired features\")\n",
    "plt.legend(loc='lower right', borderpad=0, handletextpad=0)\n",
    "plt.axis(\"tight\")\n",
    "\n",
    "plt.figure()\n",
    "\n",
    "plt.show()"
   ]
  },
  {
   "cell_type": "markdown",
   "metadata": {
    "id": "Q3SQXBzT5vCO"
   },
   "source": [
    "## Question 1\n",
    "Take a look at the decision surface plots, which variables do you think will be most useful or least useful for predicting the class labels (the type of iris)?"
   ]
  },
  {
   "cell_type": "markdown",
   "metadata": {
    "id": "Lg_83AjK3WBY"
   },
   "source": [
    "## Visualise the decision tree\n",
    "\n",
    "We now plot the tree structure of a model built on all of the features."
   ]
  },
  {
   "cell_type": "code",
   "execution_count": 6,
   "metadata": {
    "colab": {
     "base_uri": "https://localhost:8080/",
     "height": 916
    },
    "id": "50FVOBhVx4Dc",
    "outputId": "a0c9770a-d3cd-4e00-8a59-cef901d5baf0"
   },
   "outputs": [
    {
     "ename": "SyntaxError",
     "evalue": "invalid syntax (1647478203.py, line 3)",
     "output_type": "error",
     "traceback": [
      "\u001b[1;36m  Cell \u001b[1;32mIn[6], line 3\u001b[1;36m\u001b[0m\n\u001b[1;33m    from sklearn.tree plot_tree # plot_tree can be used to visualse if you dont have graphviz installed.\u001b[0m\n\u001b[1;37m                      ^\u001b[0m\n\u001b[1;31mSyntaxError\u001b[0m\u001b[1;31m:\u001b[0m invalid syntax\n"
     ]
    }
   ],
   "source": [
    "labels = iris.feature_names\n",
    "clf = DecisionTreeClassifier().fit(iris.data, iris.target)\n",
    "from sklearn.tree plot_tree # plot_tree can be used to visualse if you dont have graphviz installed.\n",
    "plot_tree(clf, filled=True) # resolutin of the generated image is quite low though\n",
    "plt.show()\n",
    "graph = Source(tree.export_graphviz(clf, out_file=None\n",
    "   , feature_names=labels, class_names=['0', '1', '2']\n",
    "   , filled = True))\n",
    "\n",
    "display(SVG(graph.pipe(format='svg')))"
   ]
  },
  {
   "cell_type": "markdown",
   "metadata": {
    "id": "_TZj0P6K7W3a"
   },
   "source": [
    "## Question 2\n",
    "Look at the above tree structure, have all the variables been selected for prediction?\n",
    "Does the variables selected by the tree in line with your answers in Question 1?"
   ]
  },
  {
   "cell_type": "markdown",
   "metadata": {
    "id": "8e0OrUG7-lxD"
   },
   "source": [
    "The Decision tree above shows a Gini index which is used to select the best attributte to split the tree on. You can see more the mathematicl formula for it [here](https://scikit-learn.org/stable/modules/tree.html)\n",
    "\n",
    "For more info about the classifier and it's parameters and methods, you can check [DecisionTreeClassifier](https://scikit-learn.org/stable/modules/generated/sklearn.tree.DecisionTreeClassifier.html#sklearn.tree.DecisionTreeClassifier)."
   ]
  },
  {
   "cell_type": "markdown",
   "metadata": {
    "id": "EQeoPFjkAIs8"
   },
   "source": [
    "##  Exercie 1\n",
    "Step 1. Change the default criterion for decision tree from 'gini' to 'entropy' to use information gain instead. Plot the tree again, can you find any difference between the trees induced using two different criteria?\n",
    "\n",
    "Step 2. Reduce the tree size by limit the max_depth to 3. Which one is better in your opinion (by intuition): the shallower tree or the more complex one?\n"
   ]
  },
  {
   "cell_type": "code",
   "execution_count": null,
   "metadata": {
    "collapsed": true,
    "id": "xPWY5BaTAWcC"
   },
   "outputs": [],
   "source": [
    "# Your code here\n"
   ]
  },
  {
   "cell_type": "markdown",
   "metadata": {
    "id": "NDnIz7ZcEZjW"
   },
   "source": [
    "## Question 3\n",
    "What are the parameters in DecisionClassifier that you can change to control the complexity (size) of the tree?"
   ]
  },
  {
   "cell_type": "markdown",
   "metadata": {
    "id": "-1Eqe5TIBRJb"
   },
   "source": [
    "## Cross-validation\n",
    "\n",
    "It's hard to say which model is better by just visualising the tree. Next We perform cross-validation to evaluate the performance of the models.\n"
   ]
  },
  {
   "cell_type": "markdown",
   "metadata": {
    "id": "4TfO8-2-VWbH"
   },
   "source": [
    "### K-fold cross-validation\n",
    "We use [cross_validate](https://scikit-learn.org/stable/modules/generated/sklearn.model_selection.cross_validate.html) function in scikit-learn for k-fold cross-validation."
   ]
  },
  {
   "cell_type": "code",
   "execution_count": null,
   "metadata": {
    "id": "Frtf6P1CFGRX"
   },
   "outputs": [],
   "source": [
    "import numpy as np\n",
    "from sklearn.model_selection import cross_validate\n",
    "from sklearn.tree import DecisionTreeClassifier\n",
    "clf = DecisionTreeClassifier(random_state=0)\n",
    "scores = cross_validate(clf, iris.data, iris.target, cv=10)\n",
    "print(scores['test_score'])\n",
    "print(np.mean(scores['test_score']), \"+/-\", np.std(scores['test_score']))"
   ]
  },
  {
   "cell_type": "markdown",
   "metadata": {
    "id": "RXdV7hGSLxGI"
   },
   "source": [
    "### Exercise\n",
    "\n",
    "Check the 10-fold cross-validation performance for  different settings of the decision tree classifier: e.g. with various max_length."
   ]
  },
  {
   "cell_type": "code",
   "execution_count": null,
   "metadata": {
    "collapsed": true,
    "id": "CDyL9IVeFwQG"
   },
   "outputs": [],
   "source": [
    "# Change the tree complexity in Decision Classifier, and get the K-fold cross-validation performance\n",
    "# Your code\n"
   ]
  },
  {
   "cell_type": "markdown",
   "metadata": {
    "id": "WjcO1K1SVVW1"
   },
   "source": [
    "### Hold-out cross-validation\n",
    "We can also split the data into training and test set using [train_test_split](https://scikit-learn.org/stable/modules/generated/sklearn.model_selection.train_test_split.html#sklearn.model_selection.train_test_split), and use [classification_report](https://scikit-learn.org/stable/modules/model_evaluation.html#classification-report) to obtain a performance report given the predicted and true target values."
   ]
  },
  {
   "cell_type": "code",
   "execution_count": null,
   "metadata": {
    "id": "k__G89k6T6bl"
   },
   "outputs": [],
   "source": [
    "from sklearn.model_selection import train_test_split\n",
    "from sklearn.metrics import classification_report\n",
    "\n",
    "X = iris.data\n",
    "y = iris.target\n",
    "\n",
    "# Split the data into 80% training, 20% testing\n",
    "X_train, X_test, y_train, y_test = train_test_split(X, y, test_size=0.2)\n",
    "\n",
    "# Train the classifier and make the prediction, feel free to change the default parameter settings, e.g. max_depth\n",
    "clf = DecisionTreeClassifier()\n",
    "clf.fit(X_train, y_train)\n",
    "y_pred = clf.predict(X_test)\n",
    "\n",
    "# Just get a classification report.\n",
    "print(classification_report(y_test, y_pred))"
   ]
  },
  {
   "cell_type": "markdown",
   "metadata": {
    "id": "dcNNgR1zLSbP"
   },
   "source": [
    "## Titanic Dataset\n",
    "\n",
    "Next you will revisit the Titanic dataset that we have explored in Practical0-2.\n",
    "\n",
    "Your task is to develop decision tree models using all the development data, and then use 5 fold cross-validation to evaluate the model peroformance."
   ]
  },
  {
   "cell_type": "code",
   "execution_count": null,
   "metadata": {
    "id": "rQZUiRF154Vk"
   },
   "outputs": [],
   "source": [
    "import pandas as pd\n",
    "url = \"https://raw.githubusercontent.com/ashishpatel26/Titanic-Machine-Learning-from-Disaster/master/input/train.csv\"\n",
    "data = pd.read_csv(url, sep=\",\")\n",
    "data"
   ]
  },
  {
   "cell_type": "code",
   "execution_count": null,
   "metadata": {
    "collapsed": true,
    "id": "hJuzjf_FMqoV"
   },
   "outputs": [],
   "source": [
    "# Step 1. Build a tree using all the devleopment data (i.e. the dataframe data in this case)\n",
    "# Your code here"
   ]
  },
  {
   "cell_type": "code",
   "execution_count": null,
   "metadata": {
    "collapsed": true,
    "id": "WgJesJUxMz5z"
   },
   "outputs": [],
   "source": [
    "# Step 2. Visualise the tree\n",
    "# Your code here\n"
   ]
  },
  {
   "cell_type": "code",
   "execution_count": null,
   "metadata": {
    "collapsed": true,
    "id": "mrxJOSqRM9ek"
   },
   "outputs": [],
   "source": [
    "# Step 3. Evaluate the model performance using 5 fold cross-validation\n",
    "# Your code here"
   ]
  },
  {
   "cell_type": "code",
   "execution_count": null,
   "metadata": {
    "collapsed": true,
    "id": "NpCN59YnY1rV"
   },
   "outputs": [],
   "source": [
    "# Step 4. Train and valuate the model with hold-out cross-validation\n",
    "# Your code here\n"
   ]
  },
  {
   "cell_type": "markdown",
   "metadata": {
    "id": "CYjaYycxNlA7"
   },
   "source": [
    "## Question for thoughts:\n",
    "Which variables have been used or selected by the decisionn tree model?\n",
    "Decision tree algorithm can be used for selecting useful features for model fitting. Are there any pitfalls here if features are selected just based on a single decision tree?"
   ]
  }
 ],
 "metadata": {
  "colab": {
   "provenance": []
  },
  "kernelspec": {
   "display_name": "Python 3 (ipykernel)",
   "language": "python",
   "name": "python3"
  },
  "language_info": {
   "codemirror_mode": {
    "name": "ipython",
    "version": 3
   },
   "file_extension": ".py",
   "mimetype": "text/x-python",
   "name": "python",
   "nbconvert_exporter": "python",
   "pygments_lexer": "ipython3",
   "version": "3.11.5"
  }
 },
 "nbformat": 4,
 "nbformat_minor": 1
}
